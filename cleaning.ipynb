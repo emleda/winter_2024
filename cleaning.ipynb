{
 "cells": [
  {
   "cell_type": "code",
   "execution_count": 17,
   "id": "cbab139d",
   "metadata": {
    "tags": []
   },
   "outputs": [
    {
     "data": {
      "text/html": [
       "\n",
       "    <style> body {font-family: \"Roboto Condensed Light\", \"Roboto Condensed\";} h2 {padding: 10px 12px; background-color: #DDE6D5; position: static; color: #ffffff; font-size: 40px;} .text_cell_render p { font-size: 15px; } .text_cell_render h1 { font-size: 30px; } h1 {padding: 10px 12px; background-color: #E5C1CD; color: #ffffff; font-size: 40px;} .text_cell_render h3 { padding: 10px 12px; background-color: #E8F3FF; position: static; color: #ffffff; font-size: 20px;} h4:before{ \n",
       "    content: \"@\"; font-family:\"Wingdings\"; font-style:regular; margin-right: 4px;} .text_cell_render h4 {padding: 8px; font-family: \"Roboto Condensed Light\"; position: static; font-style: italic; background-color: #FFB800; color: #ffffff; font-size: 18px; text-align: center; border-radius: 5px;}input[type=submit] {background-color: #E64626; border: solid; border-color: #734036; color: white; padding: 8px 16px; text-decoration: none; margin: 4px 2px; cursor: pointer; border-radius: 20px;}</style>\n"
      ],
      "text/plain": [
       "<IPython.core.display.HTML object>"
      ]
     },
     "execution_count": 17,
     "metadata": {},
     "output_type": "execute_result"
    }
   ],
   "source": [
    "from IPython.display import HTML\n",
    "HTML('''\n",
    "    <style> body {font-family: \"Roboto Condensed Light\", \"Roboto Condensed\";} h2 {padding: 10px 12px; background-color: #DDE6D5; position: static; color: #ffffff; font-size: 40px;} .text_cell_render p { font-size: 15px; } .text_cell_render h1 { font-size: 30px; } h1 {padding: 10px 12px; background-color: #E5C1CD; color: #ffffff; font-size: 40px;} .text_cell_render h3 { padding: 10px 12px; background-color: #E8F3FF; position: static; color: #ffffff; font-size: 20px;} h4:before{ \n",
    "    content: \"@\"; font-family:\"Wingdings\"; font-style:regular; margin-right: 4px;} .text_cell_render h4 {padding: 8px; font-family: \"Roboto Condensed Light\"; position: static; font-style: italic; background-color: #FFB800; color: #ffffff; font-size: 18px; text-align: center; border-radius: 5px;}input[type=submit] {background-color: #E64626; border: solid; border-color: #734036; color: white; padding: 8px 16px; text-decoration: none; margin: 4px 2px; cursor: pointer; border-radius: 20px;}</style>\n",
    "''')"
   ]
  },
  {
   "cell_type": "markdown",
   "id": "6f05c57e-5401-4770-a560-03e7221f54b2",
   "metadata": {},
   "source": [
    "# Introduction"
   ]
  },
  {
   "cell_type": "markdown",
   "id": "ad3802c7-c1b5-42e4-83e6-aa55daa787bc",
   "metadata": {},
   "source": [
    "1. To understand how Life Expectancy has developed, we will look at each continent's life expectancy over time.\n",
    "    - **TODO: Line graph of life expectancy over time by continent with AVERAGE LINE**\n",
    "2. We can see that Life Expectancy was fairly flat for all continents until 1870 (corresponding with Louis Pasteurs development of Germ Theory) where Europe, Oceania and the Americas begin their upward trend. However, for Asia and Africa, it is not until at least 1913 and 1925 respectively until they begin to rise. It should be noted that these figures are estimated, as data for Asia and Africa is very sparse until 1950, so it is difficult to find the exact point of change. \n",
    "3. This report aims to gain a deeper understanding of how Africa in particular was left behind in rising Life Expectancies, and what factors contribute to the continued gap between Africa and other continents."
   ]
  },
  {
   "cell_type": "markdown",
   "id": "fd4a72f0-a105-480e-9ac1-97c760d3d4de",
   "metadata": {
    "jp-MarkdownHeadingCollapsed": true,
    "tags": []
   },
   "source": [
    "# Cleaning"
   ]
  },
  {
   "cell_type": "markdown",
   "id": "b47d63bc",
   "metadata": {
    "jp-MarkdownHeadingCollapsed": true,
    "tags": []
   },
   "source": [
    "## Original Dataset Cleaning"
   ]
  },
  {
   "cell_type": "code",
   "execution_count": 28,
   "id": "9fc3a3b3",
   "metadata": {
    "tags": []
   },
   "outputs": [],
   "source": [
    "import pandas as pd\n",
    "import country_converter as coco\n",
    "import numpy as np"
   ]
  },
  {
   "cell_type": "code",
   "execution_count": 30,
   "id": "2fa53a9c",
   "metadata": {
    "tags": []
   },
   "outputs": [],
   "source": [
    "#load inital dataset\n",
    "raw = pd.read_csv(\"life-expectancy.csv\")"
   ]
  },
  {
   "cell_type": "code",
   "execution_count": 32,
   "id": "4832eb1f",
   "metadata": {
    "tags": []
   },
   "outputs": [],
   "source": [
    "#define entity categories\n",
    "continent = ['Americas', 'Africa', 'Asia', 'Europe', 'Latin America and the Caribbean', 'Northern America', 'Oceania']\n",
    "income_groups = ['High-income countries', 'Upper-middle-income countries', 'Middle-income countries', 'Lower-middle-income countries', 'Low-income countries', 'No income group available']\n",
    "development = ['More developed regions', 'Small Island Developing States (SIDS)', 'Less developed regions', 'Less developed regions, excluding China', 'Less developed regions, excluding least developed countries', 'Least developed countries', 'Land-locked Developing Countries (LLDC)']"
   ]
  },
  {
   "cell_type": "code",
   "execution_count": 34,
   "id": "65d51c18",
   "metadata": {
    "tags": []
   },
   "outputs": [],
   "source": [
    "#create new df for continents, income level, development status\n",
    "continents = raw[raw['Entity'].isin(continent) == True]\n",
    "income = raw[raw['Entity'].isin(income_groups) == True]\n",
    "develop = raw[raw['Entity'].isin(development) == True]"
   ]
  },
  {
   "cell_type": "code",
   "execution_count": 38,
   "id": "c5595296",
   "metadata": {
    "tags": []
   },
   "outputs": [],
   "source": [
    "#create new df for countries\n",
    "countries = raw[raw['Entity'].isin(development) == False]\n",
    "countries = countries[countries['Entity'].isin(income_groups) == False]\n",
    "countries = countries[countries['Entity'].isin(continent) == False]"
   ]
  },
  {
   "cell_type": "code",
   "execution_count": 55,
   "id": "079fd71c",
   "metadata": {
    "collapsed": true,
    "jupyter": {
     "outputs_hidden": true
    },
    "scrolled": true,
    "tags": []
   },
   "outputs": [
    {
     "name": "stderr",
     "output_type": "stream",
     "text": [
      "nan not found in ISO3\n",
      "nan not found in ISO3\n",
      "nan not found in ISO3\n",
      "nan not found in ISO3\n",
      "nan not found in ISO3\n",
      "nan not found in ISO3\n",
      "nan not found in ISO3\n",
      "nan not found in ISO3\n",
      "nan not found in ISO3\n",
      "nan not found in ISO3\n",
      "nan not found in ISO3\n",
      "nan not found in ISO3\n",
      "nan not found in ISO3\n",
      "nan not found in ISO3\n",
      "nan not found in ISO3\n",
      "nan not found in ISO3\n",
      "nan not found in ISO3\n",
      "nan not found in ISO3\n",
      "nan not found in ISO3\n",
      "nan not found in ISO3\n",
      "nan not found in ISO3\n",
      "nan not found in ISO3\n",
      "nan not found in ISO3\n",
      "nan not found in ISO3\n",
      "nan not found in ISO3\n",
      "nan not found in ISO3\n",
      "nan not found in ISO3\n",
      "nan not found in ISO3\n",
      "nan not found in ISO3\n",
      "nan not found in ISO3\n",
      "nan not found in ISO3\n",
      "nan not found in ISO3\n",
      "nan not found in ISO3\n",
      "nan not found in ISO3\n",
      "nan not found in ISO3\n",
      "nan not found in ISO3\n",
      "nan not found in ISO3\n",
      "nan not found in ISO3\n",
      "nan not found in ISO3\n",
      "nan not found in ISO3\n",
      "nan not found in ISO3\n",
      "nan not found in ISO3\n",
      "nan not found in ISO3\n",
      "nan not found in ISO3\n",
      "nan not found in ISO3\n",
      "nan not found in ISO3\n",
      "nan not found in ISO3\n",
      "nan not found in ISO3\n",
      "nan not found in ISO3\n",
      "nan not found in ISO3\n",
      "nan not found in ISO3\n",
      "nan not found in ISO3\n",
      "nan not found in ISO3\n",
      "nan not found in ISO3\n",
      "nan not found in ISO3\n",
      "nan not found in ISO3\n",
      "nan not found in ISO3\n",
      "nan not found in ISO3\n",
      "nan not found in ISO3\n",
      "nan not found in ISO3\n",
      "nan not found in ISO3\n",
      "nan not found in ISO3\n",
      "nan not found in ISO3\n",
      "nan not found in ISO3\n",
      "nan not found in ISO3\n",
      "nan not found in ISO3\n",
      "nan not found in ISO3\n",
      "nan not found in ISO3\n",
      "nan not found in ISO3\n",
      "nan not found in ISO3\n",
      "nan not found in ISO3\n",
      "nan not found in ISO3\n",
      "nan not found in ISO3\n",
      "nan not found in ISO3\n",
      "nan not found in ISO3\n",
      "nan not found in ISO3\n",
      "nan not found in ISO3\n",
      "nan not found in ISO3\n",
      "nan not found in ISO3\n",
      "nan not found in ISO3\n",
      "nan not found in ISO3\n",
      "nan not found in ISO3\n",
      "nan not found in ISO3\n",
      "nan not found in ISO3\n",
      "nan not found in ISO3\n",
      "nan not found in ISO3\n",
      "nan not found in ISO3\n",
      "nan not found in ISO3\n",
      "nan not found in ISO3\n",
      "nan not found in ISO3\n",
      "nan not found in ISO3\n",
      "nan not found in ISO3\n",
      "nan not found in ISO3\n",
      "nan not found in ISO3\n",
      "nan not found in ISO3\n",
      "nan not found in ISO3\n",
      "nan not found in ISO3\n",
      "nan not found in ISO3\n",
      "nan not found in ISO3\n",
      "nan not found in ISO3\n",
      "nan not found in ISO3\n",
      "nan not found in ISO3\n",
      "nan not found in ISO3\n",
      "nan not found in ISO3\n",
      "nan not found in ISO3\n",
      "nan not found in ISO3\n",
      "nan not found in ISO3\n",
      "nan not found in ISO3\n",
      "nan not found in ISO3\n",
      "OWID_KOS not found in ISO3\n",
      "OWID_KOS not found in ISO3\n",
      "OWID_KOS not found in ISO3\n",
      "OWID_KOS not found in ISO3\n",
      "OWID_KOS not found in ISO3\n",
      "OWID_KOS not found in ISO3\n",
      "OWID_KOS not found in ISO3\n",
      "OWID_KOS not found in ISO3\n",
      "OWID_KOS not found in ISO3\n",
      "OWID_KOS not found in ISO3\n",
      "OWID_KOS not found in ISO3\n",
      "OWID_KOS not found in ISO3\n",
      "OWID_KOS not found in ISO3\n",
      "OWID_KOS not found in ISO3\n",
      "OWID_KOS not found in ISO3\n",
      "OWID_KOS not found in ISO3\n",
      "OWID_KOS not found in ISO3\n",
      "OWID_KOS not found in ISO3\n",
      "OWID_KOS not found in ISO3\n",
      "OWID_KOS not found in ISO3\n",
      "OWID_KOS not found in ISO3\n",
      "OWID_KOS not found in ISO3\n",
      "OWID_KOS not found in ISO3\n",
      "OWID_KOS not found in ISO3\n",
      "OWID_KOS not found in ISO3\n",
      "OWID_KOS not found in ISO3\n",
      "OWID_KOS not found in ISO3\n",
      "OWID_KOS not found in ISO3\n",
      "OWID_KOS not found in ISO3\n",
      "OWID_KOS not found in ISO3\n",
      "OWID_KOS not found in ISO3\n",
      "OWID_KOS not found in ISO3\n",
      "OWID_KOS not found in ISO3\n",
      "OWID_KOS not found in ISO3\n",
      "OWID_KOS not found in ISO3\n",
      "OWID_KOS not found in ISO3\n",
      "OWID_KOS not found in ISO3\n",
      "OWID_KOS not found in ISO3\n",
      "OWID_KOS not found in ISO3\n",
      "OWID_KOS not found in ISO3\n",
      "OWID_KOS not found in ISO3\n",
      "OWID_KOS not found in ISO3\n",
      "OWID_KOS not found in ISO3\n",
      "OWID_KOS not found in ISO3\n",
      "OWID_KOS not found in ISO3\n",
      "OWID_KOS not found in ISO3\n",
      "OWID_KOS not found in ISO3\n",
      "OWID_KOS not found in ISO3\n",
      "OWID_KOS not found in ISO3\n",
      "OWID_KOS not found in ISO3\n",
      "OWID_KOS not found in ISO3\n",
      "OWID_KOS not found in ISO3\n",
      "OWID_KOS not found in ISO3\n",
      "OWID_KOS not found in ISO3\n",
      "OWID_KOS not found in ISO3\n",
      "OWID_KOS not found in ISO3\n",
      "OWID_KOS not found in ISO3\n",
      "OWID_KOS not found in ISO3\n",
      "OWID_KOS not found in ISO3\n",
      "OWID_KOS not found in ISO3\n",
      "OWID_KOS not found in ISO3\n",
      "OWID_KOS not found in ISO3\n",
      "OWID_KOS not found in ISO3\n",
      "OWID_KOS not found in ISO3\n",
      "OWID_KOS not found in ISO3\n",
      "OWID_KOS not found in ISO3\n",
      "OWID_KOS not found in ISO3\n",
      "OWID_KOS not found in ISO3\n",
      "OWID_KOS not found in ISO3\n",
      "OWID_KOS not found in ISO3\n",
      "OWID_KOS not found in ISO3\n",
      "OWID_KOS not found in ISO3\n",
      "nan not found in ISO3\n",
      "nan not found in ISO3\n",
      "nan not found in ISO3\n",
      "nan not found in ISO3\n",
      "nan not found in ISO3\n",
      "nan not found in ISO3\n",
      "nan not found in ISO3\n",
      "nan not found in ISO3\n",
      "nan not found in ISO3\n",
      "nan not found in ISO3\n",
      "nan not found in ISO3\n",
      "nan not found in ISO3\n",
      "nan not found in ISO3\n",
      "nan not found in ISO3\n",
      "nan not found in ISO3\n",
      "nan not found in ISO3\n",
      "nan not found in ISO3\n",
      "nan not found in ISO3\n",
      "nan not found in ISO3\n",
      "nan not found in ISO3\n",
      "nan not found in ISO3\n",
      "nan not found in ISO3\n",
      "nan not found in ISO3\n",
      "nan not found in ISO3\n",
      "nan not found in ISO3\n",
      "nan not found in ISO3\n",
      "nan not found in ISO3\n",
      "nan not found in ISO3\n",
      "nan not found in ISO3\n",
      "nan not found in ISO3\n",
      "nan not found in ISO3\n",
      "nan not found in ISO3\n",
      "nan not found in ISO3\n",
      "nan not found in ISO3\n",
      "nan not found in ISO3\n",
      "nan not found in ISO3\n",
      "nan not found in ISO3\n",
      "nan not found in ISO3\n",
      "nan not found in ISO3\n",
      "nan not found in ISO3\n",
      "nan not found in ISO3\n",
      "nan not found in ISO3\n",
      "nan not found in ISO3\n",
      "nan not found in ISO3\n",
      "nan not found in ISO3\n",
      "nan not found in ISO3\n",
      "nan not found in ISO3\n",
      "nan not found in ISO3\n",
      "nan not found in ISO3\n",
      "nan not found in ISO3\n",
      "nan not found in ISO3\n",
      "nan not found in ISO3\n",
      "nan not found in ISO3\n",
      "nan not found in ISO3\n",
      "nan not found in ISO3\n",
      "nan not found in ISO3\n",
      "nan not found in ISO3\n",
      "nan not found in ISO3\n",
      "nan not found in ISO3\n",
      "nan not found in ISO3\n",
      "nan not found in ISO3\n",
      "nan not found in ISO3\n",
      "nan not found in ISO3\n",
      "nan not found in ISO3\n",
      "nan not found in ISO3\n",
      "nan not found in ISO3\n",
      "nan not found in ISO3\n",
      "nan not found in ISO3\n",
      "nan not found in ISO3\n",
      "nan not found in ISO3\n",
      "nan not found in ISO3\n",
      "nan not found in ISO3\n",
      "nan not found in ISO3\n",
      "nan not found in ISO3\n",
      "nan not found in ISO3\n",
      "nan not found in ISO3\n",
      "nan not found in ISO3\n",
      "nan not found in ISO3\n",
      "nan not found in ISO3\n",
      "nan not found in ISO3\n",
      "nan not found in ISO3\n",
      "nan not found in ISO3\n",
      "nan not found in ISO3\n",
      "nan not found in ISO3\n",
      "nan not found in ISO3\n",
      "nan not found in ISO3\n",
      "nan not found in ISO3\n",
      "nan not found in ISO3\n",
      "nan not found in ISO3\n",
      "nan not found in ISO3\n",
      "nan not found in ISO3\n",
      "nan not found in ISO3\n",
      "nan not found in ISO3\n",
      "nan not found in ISO3\n",
      "nan not found in ISO3\n",
      "nan not found in ISO3\n",
      "nan not found in ISO3\n",
      "nan not found in ISO3\n",
      "nan not found in ISO3\n",
      "nan not found in ISO3\n",
      "nan not found in ISO3\n",
      "nan not found in ISO3\n",
      "nan not found in ISO3\n",
      "nan not found in ISO3\n",
      "nan not found in ISO3\n",
      "nan not found in ISO3\n",
      "nan not found in ISO3\n",
      "nan not found in ISO3\n",
      "nan not found in ISO3\n",
      "nan not found in ISO3\n",
      "nan not found in ISO3\n",
      "nan not found in ISO3\n",
      "nan not found in ISO3\n",
      "nan not found in ISO3\n",
      "nan not found in ISO3\n",
      "nan not found in ISO3\n",
      "nan not found in ISO3\n",
      "nan not found in ISO3\n",
      "nan not found in ISO3\n",
      "nan not found in ISO3\n",
      "nan not found in ISO3\n",
      "nan not found in ISO3\n",
      "nan not found in ISO3\n",
      "OWID_USS not found in ISO3\n",
      "OWID_USS not found in ISO3\n",
      "OWID_WRL not found in ISO3\n",
      "OWID_WRL not found in ISO3\n",
      "OWID_WRL not found in ISO3\n",
      "OWID_WRL not found in ISO3\n",
      "OWID_WRL not found in ISO3\n",
      "OWID_WRL not found in ISO3\n",
      "OWID_WRL not found in ISO3\n",
      "OWID_WRL not found in ISO3\n",
      "OWID_WRL not found in ISO3\n",
      "OWID_WRL not found in ISO3\n",
      "OWID_WRL not found in ISO3\n",
      "OWID_WRL not found in ISO3\n",
      "OWID_WRL not found in ISO3\n",
      "OWID_WRL not found in ISO3\n",
      "OWID_WRL not found in ISO3\n",
      "OWID_WRL not found in ISO3\n",
      "OWID_WRL not found in ISO3\n",
      "OWID_WRL not found in ISO3\n",
      "OWID_WRL not found in ISO3\n",
      "OWID_WRL not found in ISO3\n",
      "OWID_WRL not found in ISO3\n",
      "OWID_WRL not found in ISO3\n",
      "OWID_WRL not found in ISO3\n",
      "OWID_WRL not found in ISO3\n",
      "OWID_WRL not found in ISO3\n",
      "OWID_WRL not found in ISO3\n",
      "OWID_WRL not found in ISO3\n",
      "OWID_WRL not found in ISO3\n",
      "OWID_WRL not found in ISO3\n",
      "OWID_WRL not found in ISO3\n",
      "OWID_WRL not found in ISO3\n",
      "OWID_WRL not found in ISO3\n",
      "OWID_WRL not found in ISO3\n",
      "OWID_WRL not found in ISO3\n",
      "OWID_WRL not found in ISO3\n",
      "OWID_WRL not found in ISO3\n",
      "OWID_WRL not found in ISO3\n",
      "OWID_WRL not found in ISO3\n",
      "OWID_WRL not found in ISO3\n",
      "OWID_WRL not found in ISO3\n",
      "OWID_WRL not found in ISO3\n",
      "OWID_WRL not found in ISO3\n",
      "OWID_WRL not found in ISO3\n",
      "OWID_WRL not found in ISO3\n",
      "OWID_WRL not found in ISO3\n",
      "OWID_WRL not found in ISO3\n",
      "OWID_WRL not found in ISO3\n",
      "OWID_WRL not found in ISO3\n",
      "OWID_WRL not found in ISO3\n",
      "OWID_WRL not found in ISO3\n",
      "OWID_WRL not found in ISO3\n",
      "OWID_WRL not found in ISO3\n",
      "OWID_WRL not found in ISO3\n",
      "OWID_WRL not found in ISO3\n",
      "OWID_WRL not found in ISO3\n",
      "OWID_WRL not found in ISO3\n",
      "OWID_WRL not found in ISO3\n",
      "OWID_WRL not found in ISO3\n",
      "OWID_WRL not found in ISO3\n",
      "OWID_WRL not found in ISO3\n",
      "OWID_WRL not found in ISO3\n",
      "OWID_WRL not found in ISO3\n",
      "OWID_WRL not found in ISO3\n",
      "OWID_WRL not found in ISO3\n",
      "OWID_WRL not found in ISO3\n",
      "OWID_WRL not found in ISO3\n",
      "OWID_WRL not found in ISO3\n",
      "OWID_WRL not found in ISO3\n",
      "OWID_WRL not found in ISO3\n",
      "OWID_WRL not found in ISO3\n",
      "OWID_WRL not found in ISO3\n",
      "OWID_WRL not found in ISO3\n",
      "OWID_WRL not found in ISO3\n",
      "OWID_WRL not found in ISO3\n",
      "OWID_WRL not found in ISO3\n",
      "OWID_WRL not found in ISO3\n",
      "OWID_WRL not found in ISO3\n",
      "OWID_WRL not found in ISO3\n",
      "OWID_WRL not found in ISO3\n"
     ]
    }
   ],
   "source": [
    "#add continent column for countries df\n",
    "converter = coco.CountryConverter()\n",
    "countries['Continent'] = converter.convert(names=countries['Code'], src=\"ISO3\", to=\"continent\")"
   ]
  },
  {
   "cell_type": "code",
   "execution_count": 58,
   "id": "19330822",
   "metadata": {
    "tags": []
   },
   "outputs": [],
   "source": [
    "#find countries without continent match\n",
    "a = countries[countries['Code'].isna() == True]\n",
    "a = a[['Entity', 'Code']]\n",
    "grouped = a.groupby(by=\"Entity\").sum()"
   ]
  },
  {
   "cell_type": "code",
   "execution_count": 60,
   "id": "4b20deb8",
   "metadata": {
    "tags": []
   },
   "outputs": [],
   "source": [
    "#update continent column\n",
    "countries['Continent'] = countries['Continent'].str.replace('not found', 'Europe')"
   ]
  },
  {
   "cell_type": "markdown",
   "id": "2c7e7ad9",
   "metadata": {
    "jp-MarkdownHeadingCollapsed": true,
    "tags": []
   },
   "source": [
    "## Additional Datasets"
   ]
  },
  {
   "cell_type": "markdown",
   "id": "072e3fbf",
   "metadata": {
    "jp-MarkdownHeadingCollapsed": true,
    "tags": []
   },
   "source": [
    "### Disease Mortality Rates (2010 - 2021)"
   ]
  },
  {
   "cell_type": "code",
   "execution_count": 54,
   "id": "22dbbe59",
   "metadata": {
    "tags": []
   },
   "outputs": [],
   "source": [
    "# load dataset (https://ghdx.healthdata.org/record/ihme-data/gbd-2021-cause-specific-mortality-1990-2021)\n",
    "disease = pd.read_excel(\"disease-mortality-rates.XLSX\")"
   ]
  },
  {
   "cell_type": "code",
   "execution_count": 63,
   "id": "aa50ef3a",
   "metadata": {
    "tags": []
   },
   "outputs": [],
   "source": [
    "#create a subset with only mortality rate per 100,000 people\n",
    "disease = disease[['location_type', 'location_name', 'cause_name', '2010 (ASMR)', '2019 (ASMR)', '2020 (ASMR)', '2021 (ASMR)']]\n",
    "\n",
    "#convert columns to numeric\n",
    "cols = ['2010 (ASMR)', '2019 (ASMR)', '2020 (ASMR)', '2021 (ASMR)']\n",
    "for i in cols:\n",
    "    disease[i] = disease.loc[:, i].str.replace(r\"\\(.*\\)\",\"\", regex=True)\n",
    "    disease[i] = pd.to_numeric(disease.loc[:, i])"
   ]
  },
  {
   "cell_type": "code",
   "execution_count": 108,
   "id": "06c2f78b",
   "metadata": {
    "tags": []
   },
   "outputs": [],
   "source": [
    "#create column for change from 2010 to 2021\n",
    "disease.loc[:, 'change'] = (disease.loc[:, '2021 (ASMR)'] - disease.loc[:, '2010 (ASMR)'])"
   ]
  },
  {
   "cell_type": "code",
   "execution_count": 106,
   "id": "412b136b",
   "metadata": {
    "tags": []
   },
   "outputs": [],
   "source": [
    "#create global dataset\n",
    "globe = disease[disease['location_type'] == 'Global']\n",
    "\n",
    "#create global grouped dataset by cause\n",
    "globe_group = globe[['cause_name', '2010 (ASMR)', '2019 (ASMR)', '2020 (ASMR)', '2021 (ASMR)', 'change']].groupby(by='cause_name').mean().reset_index()"
   ]
  },
  {
   "cell_type": "code",
   "execution_count": 69,
   "id": "4d8ce630",
   "metadata": {
    "tags": []
   },
   "outputs": [],
   "source": [
    "#create africa dataset\n",
    "a = ['North Africa and Middle East', 'Central Sub-Saharan Africa', 'Eastern Sub-Saharan Africa', 'Southern Sub-Saharan Africa', 'Western Sub-Saharan Africa']\n",
    "africa = disease[(disease['location_type'] == 'Region') & (disease['location_name'].isin(a) == True)]\n",
    "\n",
    "#create grouped africa dataset by cause\n",
    "ac = africa.copy()\n",
    "ac = ac[['cause_name', '2010 (ASMR)', '2019 (ASMR)', '2020 (ASMR)', '2021 (ASMR)', 'change']]\n",
    "africa_group = ac.groupby(by='cause_name').mean().reset_index()"
   ]
  },
  {
   "cell_type": "code",
   "execution_count": 103,
   "id": "93bcef49",
   "metadata": {
    "scrolled": true,
    "tags": []
   },
   "outputs": [],
   "source": [
    "#create column of difference between african vs global average in 2021\n",
    "africa_group['diff'] = (africa_group['2021 (ASMR)'] - globe_group['2021 (ASMR)'])\n",
    "africa_group = africa_group.sort_values(by='diff', ascending=False)"
   ]
  },
  {
   "cell_type": "markdown",
   "id": "a1526c76",
   "metadata": {
    "jp-MarkdownHeadingCollapsed": true,
    "tags": []
   },
   "source": [
    "### Life Expectancy Decomposition (1990 - 2021)"
   ]
  },
  {
   "cell_type": "code",
   "execution_count": 80,
   "id": "c5e88bfb",
   "metadata": {
    "tags": []
   },
   "outputs": [],
   "source": [
    "#load dataset (https://cloud.ihme.washington.edu/s/6w3TkFaQw63Djnd?)\n",
    "decomp = pd.read_excel(\"life-expectancy-decomp.XLSX\")"
   ]
  },
  {
   "cell_type": "markdown",
   "id": "3864ccdd",
   "metadata": {
    "jp-MarkdownHeadingCollapsed": true,
    "tags": []
   },
   "source": [
    "### Death in Armed Conflicts (1989-2022)"
   ]
  },
  {
   "cell_type": "code",
   "execution_count": 85,
   "id": "47510a6d",
   "metadata": {
    "tags": []
   },
   "outputs": [],
   "source": [
    "#load df (Uppsala Conflict Data Program (2023); Natural Earth (2022) – processed by Our World in Data)\n",
    "conflicts = pd.read_csv(\"deaths-in-armed-conflicts-by-country.csv\")"
   ]
  },
  {
   "cell_type": "code",
   "execution_count": 93,
   "id": "93cbfde2",
   "metadata": {
    "collapsed": true,
    "jupyter": {
     "outputs_hidden": true
    },
    "tags": []
   },
   "outputs": [
    {
     "name": "stderr",
     "output_type": "stream",
     "text": [
      "OWID_ABK not found in ISO3\n",
      "OWID_ABK not found in ISO3\n",
      "OWID_ABK not found in ISO3\n",
      "OWID_ABK not found in ISO3\n",
      "OWID_ABK not found in ISO3\n",
      "OWID_ABK not found in ISO3\n",
      "OWID_ABK not found in ISO3\n",
      "OWID_ABK not found in ISO3\n",
      "OWID_ABK not found in ISO3\n",
      "OWID_ABK not found in ISO3\n",
      "OWID_ABK not found in ISO3\n",
      "OWID_ABK not found in ISO3\n",
      "OWID_ABK not found in ISO3\n",
      "OWID_ABK not found in ISO3\n",
      "OWID_ABK not found in ISO3\n",
      "OWID_ABK not found in ISO3\n",
      "OWID_ABK not found in ISO3\n",
      "OWID_ABK not found in ISO3\n",
      "OWID_ABK not found in ISO3\n",
      "OWID_ABK not found in ISO3\n",
      "OWID_ABK not found in ISO3\n",
      "OWID_ABK not found in ISO3\n",
      "OWID_ABK not found in ISO3\n",
      "OWID_ABK not found in ISO3\n",
      "OWID_ABK not found in ISO3\n",
      "OWID_ABK not found in ISO3\n",
      "OWID_ABK not found in ISO3\n",
      "OWID_ABK not found in ISO3\n",
      "OWID_ABK not found in ISO3\n",
      "OWID_ABK not found in ISO3\n",
      "OWID_ABK not found in ISO3\n",
      "OWID_ABK not found in ISO3\n",
      "OWID_ABK not found in ISO3\n",
      "OWID_ABK not found in ISO3\n",
      "OWID_CZS not found in ISO3\n",
      "OWID_CZS not found in ISO3\n",
      "OWID_CZS not found in ISO3\n",
      "OWID_CZS not found in ISO3\n",
      "OWID_CZS not found in ISO3\n",
      "OWID_CZS not found in ISO3\n",
      "OWID_CZS not found in ISO3\n",
      "OWID_CZS not found in ISO3\n",
      "OWID_CZS not found in ISO3\n",
      "OWID_CZS not found in ISO3\n",
      "OWID_CZS not found in ISO3\n",
      "OWID_CZS not found in ISO3\n",
      "OWID_CZS not found in ISO3\n",
      "OWID_CZS not found in ISO3\n",
      "OWID_CZS not found in ISO3\n",
      "OWID_CZS not found in ISO3\n",
      "OWID_CZS not found in ISO3\n",
      "OWID_CZS not found in ISO3\n",
      "OWID_CZS not found in ISO3\n",
      "OWID_CZS not found in ISO3\n",
      "OWID_CZS not found in ISO3\n",
      "OWID_CZS not found in ISO3\n",
      "OWID_CZS not found in ISO3\n",
      "OWID_CZS not found in ISO3\n",
      "OWID_CZS not found in ISO3\n",
      "OWID_CZS not found in ISO3\n",
      "OWID_CZS not found in ISO3\n",
      "OWID_CZS not found in ISO3\n",
      "OWID_CZS not found in ISO3\n",
      "OWID_CZS not found in ISO3\n",
      "OWID_CZS not found in ISO3\n",
      "OWID_CZS not found in ISO3\n",
      "OWID_CZS not found in ISO3\n",
      "OWID_CZS not found in ISO3\n",
      "OWID_GDR not found in ISO3\n",
      "OWID_GDR not found in ISO3\n",
      "OWID_GDR not found in ISO3\n",
      "OWID_GDR not found in ISO3\n",
      "OWID_GDR not found in ISO3\n",
      "OWID_GDR not found in ISO3\n",
      "OWID_GDR not found in ISO3\n",
      "OWID_GDR not found in ISO3\n",
      "OWID_GDR not found in ISO3\n",
      "OWID_GDR not found in ISO3\n",
      "OWID_GDR not found in ISO3\n",
      "OWID_GDR not found in ISO3\n",
      "OWID_GDR not found in ISO3\n",
      "OWID_GDR not found in ISO3\n",
      "OWID_GDR not found in ISO3\n",
      "OWID_GDR not found in ISO3\n",
      "OWID_GDR not found in ISO3\n",
      "OWID_GDR not found in ISO3\n",
      "OWID_GDR not found in ISO3\n",
      "OWID_GDR not found in ISO3\n",
      "OWID_GDR not found in ISO3\n",
      "OWID_GDR not found in ISO3\n",
      "OWID_GDR not found in ISO3\n",
      "OWID_GDR not found in ISO3\n",
      "OWID_GDR not found in ISO3\n",
      "OWID_GDR not found in ISO3\n",
      "OWID_GDR not found in ISO3\n",
      "OWID_GDR not found in ISO3\n",
      "OWID_GDR not found in ISO3\n",
      "OWID_GDR not found in ISO3\n",
      "OWID_GDR not found in ISO3\n",
      "OWID_GDR not found in ISO3\n",
      "OWID_GDR not found in ISO3\n",
      "OWID_GDR not found in ISO3\n",
      "OWID_KOS not found in ISO3\n",
      "OWID_KOS not found in ISO3\n",
      "OWID_KOS not found in ISO3\n",
      "OWID_KOS not found in ISO3\n",
      "OWID_KOS not found in ISO3\n",
      "OWID_KOS not found in ISO3\n",
      "OWID_KOS not found in ISO3\n",
      "OWID_KOS not found in ISO3\n",
      "OWID_KOS not found in ISO3\n",
      "OWID_KOS not found in ISO3\n",
      "OWID_KOS not found in ISO3\n",
      "OWID_KOS not found in ISO3\n",
      "OWID_KOS not found in ISO3\n",
      "OWID_KOS not found in ISO3\n",
      "OWID_KOS not found in ISO3\n",
      "OWID_KOS not found in ISO3\n",
      "OWID_KOS not found in ISO3\n",
      "OWID_KOS not found in ISO3\n",
      "OWID_KOS not found in ISO3\n",
      "OWID_KOS not found in ISO3\n",
      "OWID_KOS not found in ISO3\n",
      "OWID_KOS not found in ISO3\n",
      "OWID_KOS not found in ISO3\n",
      "OWID_KOS not found in ISO3\n",
      "OWID_KOS not found in ISO3\n",
      "OWID_KOS not found in ISO3\n",
      "OWID_KOS not found in ISO3\n",
      "OWID_KOS not found in ISO3\n",
      "OWID_KOS not found in ISO3\n",
      "OWID_KOS not found in ISO3\n",
      "OWID_KOS not found in ISO3\n",
      "OWID_KOS not found in ISO3\n",
      "OWID_KOS not found in ISO3\n",
      "OWID_KOS not found in ISO3\n",
      "OWID_SOS not found in ISO3\n",
      "OWID_SOS not found in ISO3\n",
      "OWID_SOS not found in ISO3\n",
      "OWID_SOS not found in ISO3\n",
      "OWID_SOS not found in ISO3\n",
      "OWID_SOS not found in ISO3\n",
      "OWID_SOS not found in ISO3\n",
      "OWID_SOS not found in ISO3\n",
      "OWID_SOS not found in ISO3\n",
      "OWID_SOS not found in ISO3\n",
      "OWID_SOS not found in ISO3\n",
      "OWID_SOS not found in ISO3\n",
      "OWID_SOS not found in ISO3\n",
      "OWID_SOS not found in ISO3\n",
      "OWID_SOS not found in ISO3\n",
      "OWID_SOS not found in ISO3\n",
      "OWID_SOS not found in ISO3\n",
      "OWID_SOS not found in ISO3\n",
      "OWID_SOS not found in ISO3\n",
      "OWID_SOS not found in ISO3\n",
      "OWID_SOS not found in ISO3\n",
      "OWID_SOS not found in ISO3\n",
      "OWID_SOS not found in ISO3\n",
      "OWID_SOS not found in ISO3\n",
      "OWID_SOS not found in ISO3\n",
      "OWID_SOS not found in ISO3\n",
      "OWID_SOS not found in ISO3\n",
      "OWID_SOS not found in ISO3\n",
      "OWID_SOS not found in ISO3\n",
      "OWID_SOS not found in ISO3\n",
      "OWID_SOS not found in ISO3\n",
      "OWID_SOS not found in ISO3\n",
      "OWID_SOS not found in ISO3\n",
      "OWID_SOS not found in ISO3\n",
      "OWID_GFR not found in ISO3\n",
      "OWID_GFR not found in ISO3\n",
      "OWID_GFR not found in ISO3\n",
      "OWID_GFR not found in ISO3\n",
      "OWID_GFR not found in ISO3\n",
      "OWID_GFR not found in ISO3\n",
      "OWID_GFR not found in ISO3\n",
      "OWID_GFR not found in ISO3\n",
      "OWID_GFR not found in ISO3\n",
      "OWID_GFR not found in ISO3\n",
      "OWID_GFR not found in ISO3\n",
      "OWID_GFR not found in ISO3\n",
      "OWID_GFR not found in ISO3\n",
      "OWID_GFR not found in ISO3\n",
      "OWID_GFR not found in ISO3\n",
      "OWID_GFR not found in ISO3\n",
      "OWID_GFR not found in ISO3\n",
      "OWID_GFR not found in ISO3\n",
      "OWID_GFR not found in ISO3\n",
      "OWID_GFR not found in ISO3\n",
      "OWID_GFR not found in ISO3\n",
      "OWID_GFR not found in ISO3\n",
      "OWID_GFR not found in ISO3\n",
      "OWID_GFR not found in ISO3\n",
      "OWID_GFR not found in ISO3\n",
      "OWID_GFR not found in ISO3\n",
      "OWID_GFR not found in ISO3\n",
      "OWID_GFR not found in ISO3\n",
      "OWID_GFR not found in ISO3\n",
      "OWID_GFR not found in ISO3\n",
      "OWID_GFR not found in ISO3\n",
      "OWID_GFR not found in ISO3\n",
      "OWID_GFR not found in ISO3\n",
      "OWID_GFR not found in ISO3\n",
      "OWID_YPR not found in ISO3\n",
      "OWID_YPR not found in ISO3\n",
      "OWID_YPR not found in ISO3\n",
      "OWID_YPR not found in ISO3\n",
      "OWID_YPR not found in ISO3\n",
      "OWID_YPR not found in ISO3\n",
      "OWID_YPR not found in ISO3\n",
      "OWID_YPR not found in ISO3\n",
      "OWID_YPR not found in ISO3\n",
      "OWID_YPR not found in ISO3\n",
      "OWID_YPR not found in ISO3\n",
      "OWID_YPR not found in ISO3\n",
      "OWID_YPR not found in ISO3\n",
      "OWID_YPR not found in ISO3\n",
      "OWID_YPR not found in ISO3\n",
      "OWID_YPR not found in ISO3\n",
      "OWID_YPR not found in ISO3\n",
      "OWID_YPR not found in ISO3\n",
      "OWID_YPR not found in ISO3\n",
      "OWID_YPR not found in ISO3\n",
      "OWID_YPR not found in ISO3\n",
      "OWID_YPR not found in ISO3\n",
      "OWID_YPR not found in ISO3\n",
      "OWID_YPR not found in ISO3\n",
      "OWID_YPR not found in ISO3\n",
      "OWID_YPR not found in ISO3\n",
      "OWID_YPR not found in ISO3\n",
      "OWID_YPR not found in ISO3\n",
      "OWID_YPR not found in ISO3\n",
      "OWID_YPR not found in ISO3\n",
      "OWID_YPR not found in ISO3\n",
      "OWID_YPR not found in ISO3\n",
      "OWID_YPR not found in ISO3\n",
      "OWID_YPR not found in ISO3\n",
      "OWID_YGS not found in ISO3\n",
      "OWID_YGS not found in ISO3\n",
      "OWID_YGS not found in ISO3\n",
      "OWID_YGS not found in ISO3\n",
      "OWID_YGS not found in ISO3\n",
      "OWID_YGS not found in ISO3\n",
      "OWID_YGS not found in ISO3\n",
      "OWID_YGS not found in ISO3\n",
      "OWID_YGS not found in ISO3\n",
      "OWID_YGS not found in ISO3\n",
      "OWID_YGS not found in ISO3\n",
      "OWID_YGS not found in ISO3\n",
      "OWID_YGS not found in ISO3\n",
      "OWID_YGS not found in ISO3\n",
      "OWID_YGS not found in ISO3\n",
      "OWID_YGS not found in ISO3\n",
      "OWID_YGS not found in ISO3\n",
      "OWID_YGS not found in ISO3\n",
      "OWID_YGS not found in ISO3\n",
      "OWID_YGS not found in ISO3\n",
      "OWID_YGS not found in ISO3\n",
      "OWID_YGS not found in ISO3\n",
      "OWID_YGS not found in ISO3\n",
      "OWID_YGS not found in ISO3\n",
      "OWID_YGS not found in ISO3\n",
      "OWID_YGS not found in ISO3\n",
      "OWID_YGS not found in ISO3\n",
      "OWID_YGS not found in ISO3\n",
      "OWID_YGS not found in ISO3\n",
      "OWID_YGS not found in ISO3\n",
      "OWID_YGS not found in ISO3\n",
      "OWID_YGS not found in ISO3\n",
      "OWID_YGS not found in ISO3\n",
      "OWID_YGS not found in ISO3\n"
     ]
    }
   ],
   "source": [
    "#add continent column to df\n",
    "converter = coco.CountryConverter()\n",
    "conflicts['Continent'] = converter.convert(names=conflicts['Code'], src=\"ISO3\", to=\"continent\")"
   ]
  },
  {
   "cell_type": "code",
   "execution_count": 94,
   "id": "a9192531",
   "metadata": {
    "collapsed": true,
    "jupyter": {
     "outputs_hidden": true
    },
    "tags": []
   },
   "outputs": [
    {
     "data": {
      "text/plain": [
       "array(['not found', 'Asia', 'Europe', 'Africa', 'America', 'Oceania'],\n",
       "      dtype=object)"
      ]
     },
     "execution_count": 94,
     "metadata": {},
     "output_type": "execute_result"
    }
   ],
   "source": [
    "#check for missed countries\n",
    "conflicts['Continent'].unique()"
   ]
  },
  {
   "cell_type": "code",
   "execution_count": 97,
   "id": "f0cda30e",
   "metadata": {
    "tags": []
   },
   "outputs": [],
   "source": [
    "#remove non-states/former states from df\n",
    "conflicts = conflicts[conflicts['Continent'] != 'not found']"
   ]
  },
  {
   "cell_type": "code",
   "execution_count": 99,
   "id": "8d980b8c",
   "metadata": {
    "tags": []
   },
   "outputs": [],
   "source": [
    "#create df for african conflicts\n",
    "africa = conflicts[conflicts['Continent'] == 'Africa']"
   ]
  },
  {
   "cell_type": "markdown",
   "id": "6b024a04",
   "metadata": {
    "tags": []
   },
   "source": [
    "### Healthcare Expenditure\n",
    "World Health Organization - Global Health Observatory (2024) – processed by Our World in Data"
   ]
  },
  {
   "cell_type": "markdown",
   "id": "09ae48b0-a91f-4cb6-8d16-a9851ce8672d",
   "metadata": {},
   "source": [
    "### GDP"
   ]
  },
  {
   "cell_type": "markdown",
   "id": "f9512d32-7865-4ee8-bd41-eed39f2f28e3",
   "metadata": {},
   "source": [
    "# Historical Context or How was Africa Left Behind? "
   ]
  },
  {
   "cell_type": "markdown",
   "id": "3cdc6186-0f8f-4a8c-b720-d1f7ef022e04",
   "metadata": {},
   "source": [
    "1. Africa was largely under colonial rule until the 1950's. Colonial management of the countries provided very little care to the Indigenous people, so the benefits of modern medicine were not distributed to the colonies. \n",
    "    - **TODO: Find a source**\n",
    "2. In the 1950's the process of decolonisation begins. For some countries, Life Expectancy slowly and steadily increases (e.g.\n",
    "    - **TODO: Line graph of the life expectancy of African countries from 1950-1975**\n",
    "    - **TODO: Calculate pct change for these years (Africa vs Worldwide and compare)\n",
    "3. I"
   ]
  },
  {
   "cell_type": "markdown",
   "id": "d611d273",
   "metadata": {
    "tags": []
   },
   "source": [
    "# Potential Topics"
   ]
  },
  {
   "cell_type": "markdown",
   "id": "b7fd078a",
   "metadata": {},
   "source": [
    "## Specific Disease\n",
    "*Can we explain the reason behind Africa's lagging life expectancy by some specific diseases?*\n",
    "- *If Africa is being left behind on life expectancy growth, are there any specific diseases that can be accountable? Are they preventable - if it's not affecting other continents, they probably are.*\n",
    "- *Has the Gates Foundation done much? (lol)*\n",
    "- *Why did an extra 55 years to see the improved life expectancy outcomes following the discoveries of Louis Pasteur? Is a similar thing happening now?*"
   ]
  },
  {
   "cell_type": "markdown",
   "id": "06df142e",
   "metadata": {},
   "source": [
    "## War\n",
    "*Can we explain a subset of countries life expectancy according to wars or political events like famines, etc and can we explain why the life expectancy will bounce back after these events? Additionally, will these political events have a longer term effect on population (e.g. maybe a country's life expectancy plummets due to a genocide, then the average life expectancy does bounce back but the population of the country will decrease. So the life expectancy may be high, but it is because it only includes the survivors.*\n",
    "- *Does war have a significant effect on life expectancy from birth? Are there any countries that don't follow this upward trend?*"
   ]
  },
  {
   "cell_type": "markdown",
   "id": "265e6631",
   "metadata": {},
   "source": [
    "## How are Regions Left Behind?\n",
    "- *We know that life expectancy has been going up for a long time, and the trend is found nearly everywhere. But, why is that Africa is still lagging way behind all other continents?*\n",
    "- *Well, we can see that they had a much later start than every other continent - why?* **Records weren't really kept until 1950 when decolonisation really started. Colonialists weren't particularly interested in setting up medical infrastructure for the Indigenous people, and so they didn't get to feel the benefits of rapidly improving modern medicine until they started creating their own medical infrastructure.**\n",
    "- *So what are the current effects? What diseases / causes of death are the most prevalent in Africa and why are they able to thrive where they have been eradicated in the rest of the world?* **TODO: look at life expectancy decomp + analyse the diseases that Africa is above average in**\n",
    "- *Then they had the 'lost decade' - why did they fail to make it?*\n",
    "- *We can also see, the biggest increase in deaths over time in Africa aside from Covid-19 (which they suffered the worst out of all continents) from **terrorism and conflict*** - *(this is led by Ethiopia/Somalia and the ethnic groups within)*\n",
    "- *So we might want to think about how terrorism and conflict impacts life expectancy historically*\n",
    "- *We might also want to think about how it affects overall population growth, and how that matches up with life expectancy*"
   ]
  },
  {
   "cell_type": "markdown",
   "id": "cc8c7f00",
   "metadata": {},
   "source": [
    "## Storytelling\n",
    "\n",
    "1. There is a trend of increasing life expectancy over time, fueled most clearly by the development of germ theory in 1870.\n",
    "2. However, Africa does not start increasing until much later on - why?\n",
    "    * Largely colonised, and colonial forces did not create much medical infrastructure for the Indigenous people, so the benefits of modern medicine were not shared. In the 50's, when decolonisation begins, then they start to develop these critical infrastructures.\n",
    "    * So why are they still not meeting the global standard? Let's look into different diseases which are impacting the continent the most, comparative to other countries as well.\n",
    "3. But disease is not the whole story, looking on a country level we can see the impact of conflict and terrorism in the region - focus on Sudan & Palestine\n",
    "    * Can we find a correlation between deaths due to armed conflict and life expectancy?\n",
    "    * Highlight how excessive conflict is in Africa comparative to other regions"
   ]
  },
  {
   "cell_type": "markdown",
   "id": "95c0d3e5",
   "metadata": {},
   "source": [
    "**Pre 2000s / 90s**\n",
    "1. There is a trend of increasing life expectancy over time, fueled most clearly by the development of germ theory in 1870.\n",
    "2. However, Africa does not start increasing until much later on - why?\n",
    "    a. Largely colonised, and colonial forces did not create much medical infrastructure for the Indigenous people, so the benefits of modern medicine were not shared. In the 50's, when decolonisation begins, then they start to develop these critical infrastructures.\n",
    "\n",
    "**2000s Onward**\n",
    "\n",
    "3. So why are they still not meeting the global standard? Let's look into different diseases which are impacting the continent the most, comparative to other countries as well.\n",
    "4. But disease is not the whole story, looking on a country level we can see the impact of conflict and terrorism in the region - focus on Sudan & Palestine\n",
    "    * Can we find a correlation between deaths due to armed conflict and life expectancy?\n",
    "    * Highlight how excessive conflict is in Africa comparative to other regions"
   ]
  },
  {
   "cell_type": "markdown",
   "id": "fdf00fcf",
   "metadata": {},
   "source": [
    "## TODO\n",
    "\n",
    "### Analysis\n",
    "- Create line graph of life expectancy by continent over time, with annotations on 1870 to mark the start of the upward trend and on 1935 to show when Africa begins to rise.\n",
    "- Find a source (best would be a dataset) explaining medical infrastructure in colonial times / when health outcomes began to improve\n",
    "- Disease analysis: point to specific diseases that are holding Africa back and their development over time (HIV, COVID-19, etc)\n",
    "- Year on year change in life expectancy with year on year combat deaths - looking for correlation (time series analysis research)\n",
    "- Case study on South Sudan \n",
    "- Map visualisation of combat deaths by continent (or country?)\n",
    "\n",
    "### Report\n",
    "- Convert to RMD\n",
    "- Data provenance"
   ]
  },
  {
   "cell_type": "code",
   "execution_count": null,
   "id": "21bf30c0-e0f8-436c-ab73-cdeb6ab07400",
   "metadata": {},
   "outputs": [],
   "source": []
  }
 ],
 "metadata": {
  "kernelspec": {
   "display_name": "Python 3 (ipykernel)",
   "language": "python",
   "name": "python3"
  },
  "language_info": {
   "codemirror_mode": {
    "name": "ipython",
    "version": 3
   },
   "file_extension": ".py",
   "mimetype": "text/x-python",
   "name": "python",
   "nbconvert_exporter": "python",
   "pygments_lexer": "ipython3",
   "version": "3.11.9"
  }
 },
 "nbformat": 4,
 "nbformat_minor": 5
}
